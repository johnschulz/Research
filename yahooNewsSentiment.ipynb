{
 "cells": [
  {
   "cell_type": "code",
   "execution_count": 1,
   "metadata": {},
   "outputs": [],
   "source": [
    "import requests\n",
    "from bs4 import BeautifulSoup\n",
    "import bs4\n",
    "import pandas as pd\n",
    "import gspread\n",
    "from oauth2client.service_account import ServiceAccountCredentials\n",
    "from df2gspread import df2gspread as d2g\n",
    "import re"
   ]
  },
  {
   "cell_type": "code",
   "execution_count": 2,
   "metadata": {},
   "outputs": [],
   "source": [
    "def getSearchPhrases():\n",
    "    scope = ['https://www.googleapis.com/auth/drive']\n",
    "    creds = ServiceAccountCredentials.from_json_keyfile_name(\"creds.json\", scope)\n",
    "    client = gspread.authorize(creds)\n",
    "    sheet = client.open(\"DIGHUM Sentiment\")\n",
    "    sheet = sheet.worksheet(\"searches\")\n",
    "    df = pd.DataFrame(sheet.get_all_values())\n",
    "    if not df.empty:\n",
    "        df.columns = df.iloc[0]\n",
    "        df = df.iloc[1:]\n",
    "    return df\n",
    "searchPhrasesDf = getSearchPhrases()"
   ]
  },
  {
   "cell_type": "code",
   "execution_count": 3,
   "metadata": {},
   "outputs": [
    {
     "name": "stdout",
     "output_type": "stream",
     "text": [
      "Black Lives Matter\n",
      "https://news.yahoo.com/rss/search?q=Black%20Lives%20Matterwhen:1d\n",
      "<source url=\"https://news.yahoo.com/\"/>\n",
      "51\n",
      "52\n",
      "All Lives Matter\n",
      "https://news.yahoo.com/rss/search?q=All%20Lives%20Matterwhen:1d\n",
      "<source url=\"https://news.yahoo.com/\"/>\n",
      "51\n",
      "52\n",
      "Blue Lives Matter\n",
      "https://news.yahoo.com/rss/search?q=Blue%20Lives%20Matterwhen:1d\n",
      "<source url=\"https://news.yahoo.com/\"/>\n",
      "51\n",
      "52\n",
      "Donald Trump\n",
      "https://news.yahoo.com/rss/search?q=Donald%20Trumpwhen:1d\n",
      "<source url=\"https://news.yahoo.com/\"/>\n",
      "51\n",
      "52\n",
      "Joe Biden\n",
      "https://news.yahoo.com/rss/search?q=Joe%20Bidenwhen:1d\n",
      "<source url=\"https://news.yahoo.com/\"/>\n",
      "51\n",
      "52\n",
      "Republican\n",
      "https://news.yahoo.com/rss/search?q=Republicanwhen:1d\n",
      "<source url=\"https://news.yahoo.com/\"/>\n",
      "51\n",
      "52\n",
      "Democratic\n",
      "https://news.yahoo.com/rss/search?q=Democraticwhen:1d\n",
      "<source url=\"https://news.yahoo.com/\"/>\n",
      "51\n",
      "52\n"
     ]
    }
   ],
   "source": [
    "articlesDf = pd.DataFrame(columns=[\"query\", \"date\",\"source\", \"title\", \"description\"])\n",
    "for query in searchPhrasesDf [\"Phrases\"]:\n",
    "    print(query)\n",
    "    preppedQuery = re.sub(\" \", \"%20\", query)\n",
    "    url = \"https://news.yahoo.com/rss/search?q=\" + preppedQuery + \"when:1d\"\n",
    "    print(url)\n",
    "    r = requests.get(url)\n",
    "    soup = BeautifulSoup(r.content, 'html5lib') \n",
    "    dates = soup.find_all('pubdate')\n",
    "    titles = soup.find_all('title')\n",
    "    descriptions = soup.find_all('description')\n",
    "    sources = soup.find_all('source')\n",
    "    print(sources[0])\n",
    "    print(len(dates))\n",
    "    print(len(titles))\n",
    "    for x in range(1, len(descriptions) - 1):\n",
    "        articlesDf = articlesDf.append({\"query\" : query,\n",
    "                                        \"date\" : dates[x].getText(),\n",
    "                                        \"source\": sources[x - 1].next_sibling,\n",
    "                                        'title': titles[x + 1].getText(), \n",
    "                                        \"description\": descriptions[x].get_text().split('/a>')[1].split('<')[0]}, ignore_index=True)"
   ]
  },
  {
   "cell_type": "code",
   "execution_count": 4,
   "metadata": {},
   "outputs": [
    {
     "data": {
      "text/plain": [
       "<Worksheet 'YahooNews' id:325347907>"
      ]
     },
     "execution_count": 4,
     "metadata": {},
     "output_type": "execute_result"
    }
   ],
   "source": [
    "scope = ['https://www.googleapis.com/auth/drive']\n",
    "creds = ServiceAccountCredentials.from_json_keyfile_name(\"creds.json\", scope)\n",
    "client = gspread.authorize(creds)\n",
    "sheet = client.open(\"DIGHUM Sentiment\")\n",
    "sheet = sheet.worksheet(\"YahooNews\")\n",
    "df = pd.DataFrame(sheet.get_all_values())\n",
    "if not df.empty:\n",
    "    df.columns =  df.iloc[0]\n",
    "    df = df.iloc[1:]\n",
    "newDfForSheet = articlesDf.append(df)\n",
    "newindex = [x for x in range(len(newDfForSheet[\"query\"]))]\n",
    "newDfForSheet[\"check\"] = newindex\n",
    "newDfForSheet = newDfForSheet.set_index(\"check\")\n",
    "spreadsheet_key = '1YgFoSOEt9edjE0CTmMayAN6J09zMHdI-WQu9BL758Ek'\n",
    "wks_name = \"YahooNews\"\n",
    "d2g.upload(newDfForSheet, spreadsheet_key, wks_name, credentials=creds, row_names = False)"
   ]
  },
  {
   "cell_type": "code",
   "execution_count": null,
   "metadata": {},
   "outputs": [],
   "source": []
  },
  {
   "cell_type": "code",
   "execution_count": null,
   "metadata": {},
   "outputs": [],
   "source": []
  }
 ],
 "metadata": {
  "kernelspec": {
   "display_name": "Python 3",
   "language": "python",
   "name": "python3"
  },
  "language_info": {
   "codemirror_mode": {
    "name": "ipython",
    "version": 3
   },
   "file_extension": ".py",
   "mimetype": "text/x-python",
   "name": "python",
   "nbconvert_exporter": "python",
   "pygments_lexer": "ipython3",
   "version": "3.7.3"
  }
 },
 "nbformat": 4,
 "nbformat_minor": 2
}
